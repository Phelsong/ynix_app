{
 "cells": [
  {
   "cell_type": "code",
   "execution_count": null,
   "metadata": {},
   "outputs": [],
   "source": [
    "#PSEUDO CODE\n",
    "# screen manager access pure python\n",
    "\n",
    "\n",
    "def button_press(self):\n",
    "    self.parent.manager.current = \"SplashScreen\"\n",
    "\n",
    "\n",
    "self.button = Button(\n",
    "    text=\"Submit\",\n",
    "    size_hint=(0.8, 0.2),\n",
    ")\n",
    "self.button.bind(on_press=button_press)\n",
    "self.add_widget(self.button)\n",
    "\n",
    "\n",
    "\n",
    "# Python KV object access pure python\n",
    "Class KV():\n",
    "    self.ids.submit_button.text = \"Class\""
   ]
  },
  {
   "cell_type": "code",
   "execution_count": 3,
   "metadata": {},
   "outputs": [
    {
     "data": {
      "text/plain": [
       "True"
      ]
     },
     "execution_count": 3,
     "metadata": {},
     "output_type": "execute_result"
    }
   ],
   "source": [
    "from kivy.config import Config\n",
    "\n",
    "Config.set(\"graphics\", \"width\", \"1080\")\n",
    "Config.set(\"graphics\", \"height\", \"1080\")\n",
    "Config.set(\"graphics\", \"borderless\", \"0\")\n",
    "Config.write()\n"
   ]
  },
  {
   "cell_type": "code",
   "execution_count": null,
   "metadata": {},
   "outputs": [],
   "source": [
    "from kivy.config import ConfigParser\n",
    "\n",
    "config = ConfigParser()\n",
    "config.read(\"myconfig.ini\")\n"
   ]
  }
 ],
 "metadata": {
  "kernelspec": {
   "display_name": ".venv",
   "language": "python",
   "name": "python3"
  },
  "language_info": {
   "codemirror_mode": {
    "name": "ipython",
    "version": 3
   },
   "file_extension": ".py",
   "mimetype": "text/x-python",
   "name": "python",
   "nbconvert_exporter": "python",
   "pygments_lexer": "ipython3",
   "version": "3.11.4"
  },
  "orig_nbformat": 4
 },
 "nbformat": 4,
 "nbformat_minor": 2
}
