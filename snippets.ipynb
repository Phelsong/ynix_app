{
 "cells": [
  {
   "cell_type": "code",
   "execution_count": null,
   "metadata": {},
   "outputs": [],
   "source": [
    "#PSEUDO CODE\n",
    "# screen manager access pure python\n",
    "\n",
    "\n",
    "def button_press(self):\n",
    "    self.parent.manager.current = \"SplashScreen\"\n",
    "\n",
    "\n",
    "self.button = Button(\n",
    "    text=\"Submit\",\n",
    "    size_hint=(0.8, 0.2),\n",
    ")\n",
    "self.button.bind(on_press=button_press)\n",
    "self.add_widget(self.button)\n",
    "\n",
    "\n",
    "\n",
    "# Python KV object access pure python\n",
    "Class KV():\n",
    "    self.ids.submit_button.text = \"Class\""
   ]
  }
 ],
 "metadata": {
  "language_info": {
   "name": "python"
  },
  "orig_nbformat": 4
 },
 "nbformat": 4,
 "nbformat_minor": 2
}
